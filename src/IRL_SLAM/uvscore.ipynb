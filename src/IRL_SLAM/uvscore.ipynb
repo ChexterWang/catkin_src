{
 "cells": [
  {
   "cell_type": "code",
   "execution_count": 2,
   "metadata": {},
   "outputs": [],
   "source": [
    "import plotly.graph_objects as go\n",
    "from plotly.subplots import make_subplots\n",
    "import pandas as pd"
   ]
  },
  {
   "cell_type": "code",
   "execution_count": 6,
   "metadata": {},
   "outputs": [],
   "source": [
    "with open('log.csv', 'w') as f:\n",
    "    f.write(f\"u_score,v_score\\n\")\n",
    "f.close()"
   ]
  },
  {
   "cell_type": "code",
   "execution_count": null,
   "metadata": {},
   "outputs": [],
   "source": [
    "df = pd.read_csv('log.csv', sep=',')\n",
    "fig = make_subplots(rows=1, cols=2)\n",
    "fig.add_trace(go.Histogram(x=df['u_score']), row=1, col=1)\n",
    "fig.add_trace(go.Histogram(x=df['v_score']), row=1, col=2)\n",
    "fig.show()"
   ]
  }
 ],
 "metadata": {
  "kernelspec": {
   "display_name": "Python 3.9.7 ('ml2022')",
   "language": "python",
   "name": "python3"
  },
  "language_info": {
   "codemirror_mode": {
    "name": "ipython",
    "version": 3
   },
   "file_extension": ".py",
   "mimetype": "text/x-python",
   "name": "python",
   "nbconvert_exporter": "python",
   "pygments_lexer": "ipython3",
   "version": "3.9.7"
  },
  "orig_nbformat": 4,
  "vscode": {
   "interpreter": {
    "hash": "9302f9d52ed47c3e87b7bf89791b3f706502accd2ba31ffd7f2e4e5b4d5734b2"
   }
  }
 },
 "nbformat": 4,
 "nbformat_minor": 2
}
