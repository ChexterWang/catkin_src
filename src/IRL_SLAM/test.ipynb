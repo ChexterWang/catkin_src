{
 "cells": [
  {
   "cell_type": "code",
   "execution_count": null,
   "metadata": {},
   "outputs": [],
   "source": [
    "from Util import Util\n",
    "util = Util(verbose=True)\n",
    "util.print(f\"fkkk\")"
   ]
  },
  {
   "cell_type": "code",
   "execution_count": null,
   "metadata": {},
   "outputs": [],
   "source": [
    "import plotly.graph_objects as go\n",
    "from plotly.subplots import make_subplots\n",
    "import pandas as pd"
   ]
  },
  {
   "cell_type": "code",
   "execution_count": null,
   "metadata": {},
   "outputs": [],
   "source": [
    "with open('log.csv', 'w') as f:\n",
    "    f.write(f\"u_score,v_score\\n\")\n",
    "f.close()"
   ]
  },
  {
   "cell_type": "code",
   "execution_count": null,
   "metadata": {},
   "outputs": [],
   "source": [
    "df = pd.read_csv('log.csv', sep=',')\n",
    "fig = make_subplots(rows=1, cols=2)\n",
    "fig.add_trace(go.Histogram(x=df['u_score']), row=1, col=1)\n",
    "fig.add_trace(go.Histogram(x=df['v_score']), row=1, col=2)\n",
    "fig.show()"
   ]
  },
  {
   "cell_type": "code",
   "execution_count": null,
   "metadata": {},
   "outputs": [],
   "source": [
    "with open(\"/home/brian/catkin_ws/src/IRL_SLAM/raw_data_seq.csv\", 'r') as f:\n",
    "    a = f.readline()\n",
    "    a = f.readline()\n",
    "f.close()"
   ]
  },
  {
   "cell_type": "code",
   "execution_count": null,
   "metadata": {},
   "outputs": [],
   "source": [
    "b = a[2:].strip('\\n').split(\"_\")\n",
    "[device_no, frame_no, msg, enc_img] = b[:4]\n",
    "raw_kalib = b[4] if len(b) == 6 else ''\n",
    "print(f'{device_no},{frame_no},{msg},{enc_img[:10]},{raw_kalib}')"
   ]
  },
  {
   "cell_type": "code",
   "execution_count": null,
   "metadata": {},
   "outputs": [],
   "source": [
    "from Util import Util\n",
    "import pandas as pd\n",
    "util = Util(verbose=True)\n",
    "df = pd.read_csv(\"/home/brian/catkin_ws/src/IRL_SLAM/raw_data_seq.csv\", index_col=False)\n",
    "df"
   ]
  },
  {
   "cell_type": "code",
   "execution_count": null,
   "metadata": {},
   "outputs": [],
   "source": [
    "from pprint import pformat\n",
    "data_verbose = dict(out)\n",
    "data_verbose['enc_img'] = data_verbose['enc_img'][:10]\n",
    "data_verbose.pop('frame')\n",
    "data_verbose.pop('kalib')\n",
    "print(f'[parse] [debug] return data:\\n{pformat(data_verbose)}')\n"
   ]
  }
 ],
 "metadata": {
  "kernelspec": {
   "display_name": "Python 3.9.7 ('ml2022')",
   "language": "python",
   "name": "python3"
  },
  "language_info": {
   "codemirror_mode": {
    "name": "ipython",
    "version": 3
   },
   "file_extension": ".py",
   "mimetype": "text/x-python",
   "name": "python",
   "nbconvert_exporter": "python",
   "pygments_lexer": "ipython3",
   "version": "3.9.7"
  },
  "orig_nbformat": 4,
  "vscode": {
   "interpreter": {
    "hash": "9302f9d52ed47c3e87b7bf89791b3f706502accd2ba31ffd7f2e4e5b4d5734b2"
   }
  }
 },
 "nbformat": 4,
 "nbformat_minor": 2
}
